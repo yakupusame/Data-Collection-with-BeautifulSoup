{
  "nbformat": 4,
  "nbformat_minor": 0,
  "metadata": {
    "colab": {
      "name": "Data Collection bs4",
      "provenance": [],
      "authorship_tag": "ABX9TyNbV644tTNQa4kYc2gl+6G8",
      "include_colab_link": true
    },
    "kernelspec": {
      "name": "python3",
      "display_name": "Python 3"
    }
  },
  "cells": [
    {
      "cell_type": "markdown",
      "metadata": {
        "id": "view-in-github",
        "colab_type": "text"
      },
      "source": [
        "<a href=\"https://colab.research.google.com/github/yakupusame/Data-Collection-with-BeautifulSoup/blob/main/Data_Collection_bs4.ipynb\" target=\"_parent\"><img src=\"https://colab.research.google.com/assets/colab-badge.svg\" alt=\"Open In Colab\"/></a>"
      ]
    },
    {
      "cell_type": "code",
      "metadata": {
        "id": "lHyMznsYQyI1"
      },
      "source": [
        "from bs4 import BeautifulSoup\r\n",
        "import requests\r\n",
        "import pandas as pd\r\n",
        "\r\n",
        "HEADERS = {'User-Agent' : 'Mozilla/5.0 (Windows NT 10.0; Win64; x64) AppleWebKit/537.36 (KHTML, like Gecko) Chrome/86.0.4240.183 Safari/537.36'}\r\n",
        "     \r\n",
        "baseurl = 'https://www.fragrancenet.com'\r\n",
        "\r\n",
        "productlinks = []\r\n",
        "fragrancelist = []\r\n",
        "\r\n",
        "for x in range(1,400):\r\n",
        "    \r\n",
        "    r = requests.get(f'https://www.fragrancenet.com/ni/fragrances?f=1f!3D/1f!6R/1f!do&page={x}')\r\n",
        "    soup = BeautifulSoup(r.content, \"lxml\")\r\n",
        "    \r\n",
        "    productlist = soup.find_all('p' , class_ = \"desc\")\r\n",
        "    \r\n",
        "    \r\n",
        "    for item in productlist:\r\n",
        "        for link in item.find_all('a' , href = True):\r\n",
        "            productlinks.append(link['href'])\r\n",
        "            \r\n",
        "         \r\n",
        "      \r\n",
        "for link in productlinks:\r\n",
        "        \r\n",
        "   webpage = requests.get(link , headers = HEADERS)\r\n",
        "   soup = BeautifulSoup(webpage.content , 'lxml')\r\n",
        "   title = soup.find('div' , class_ = 'title cf').text.strip()\r\n",
        "   notes = soup.find('div' , class_ = 'tab-content').text.strip().split('  ')[1:2]\r\n",
        "   data = {\r\n",
        "       'Title' : title,\r\n",
        "       'Fragrance Notes'  : notes\r\n",
        "       }\r\n",
        "   fragrancelist.append(data)\r\n",
        "   df = pd.DataFrame(fragrancelist)\r\n",
        "\r\n",
        "df.to_csv(r'C:\\Users\\user\\Desktop\\dataset.csv')\r\n",
        "\r\n",
        "\r\n"
      ],
      "execution_count": null,
      "outputs": []
    }
  ]
}